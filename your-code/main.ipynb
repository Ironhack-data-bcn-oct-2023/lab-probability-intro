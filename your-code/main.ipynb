{
 "cells": [
  {
   "cell_type": "markdown",
   "metadata": {},
   "source": [
    "# Probability"
   ]
  },
  {
   "cell_type": "markdown",
   "metadata": {},
   "source": [
    "## Challenge 1\n",
    "There is a box with 10 white balls, 12 red balls and 8 black balls. Calculate the probability of:\n",
    "* Taking a white ball out.\n",
    "* Taking a white ball on first extraction and a black ball out on second extraction without replacing the first one.\n",
    "* Taking a white ball on first extraction and a black ball out on second extraction replacing the first one.\n",
    "* Taking 3 balls and them being all different colours."
   ]
  },
  {
   "cell_type": "code",
   "execution_count": 2,
   "metadata": {},
   "outputs": [
    {
     "data": {
      "text/plain": [
       "'\\nW = 10\\nR = 12\\nB = 8\\nTotal = 30\\n\\n1. Taking a white ball out.\\nP(W) = 10 / 30 = 1/3\\n\\n2. Taking a white ball on first extraction and a black ball out on second extraction without replacing the first one.\\nP(W) * P(B After W) = 1/3 * 8/29 = 8/27\\n\\n3. Taking a white ball on first extraction and a black ball out on second extraction replacing the first one.\\nP(W and B)= 1/3 * 8/30 = 4/45 \\n\\n4. Taking 3 balls and them being all different colours.\\nP(W and B and R)= 1/3 * 8/39 * 12 / 28= 8/203 \\n\\n\\n'"
      ]
     },
     "execution_count": 2,
     "metadata": {},
     "output_type": "execute_result"
    }
   ],
   "source": [
    "\"\"\"\n",
    "W = 10\n",
    "R = 12\n",
    "B = 8\n",
    "Total = 30\n",
    "\n",
    "1. Taking a white ball out.\n",
    "P(W) = 10 / 30 = 1/3\n",
    "\n",
    "2. Taking a white ball on first extraction and a black ball out on second extraction without replacing the first one.\n",
    "P(W) * P(B After W) = 1/3 * 8/29 = 8/27\n",
    "\n",
    "3. Taking a white ball on first extraction and a black ball out on second extraction replacing the first one.\n",
    "P(W and B)= 1/3 * 8/30 = 4/45 \n",
    "\n",
    "4. Taking 3 balls and them being all different colours.\n",
    "P(W and B and R)= 1/3 * 8/39 * 12 / 28= 8/203 \n",
    "\n",
    "\n",
    "\"\"\""
   ]
  },
  {
   "cell_type": "markdown",
   "metadata": {},
   "source": [
    "## Challenge 2\n",
    "\n",
    "You want to go on picnic on Saturday. You hate rain, and would know to plan your weekend. To help you make a decision, you gather the following data about rainy days:\n",
    "\n",
    "* 40% of all days are cloudy.\n",
    "* About 50% of cloudy days are rainy. \n",
    "* About 20% of non-cloudy days are rainy.\n",
    "\n",
    "What is the chance of rain during next Saturday?"
   ]
  },
  {
   "cell_type": "markdown",
   "metadata": {},
   "source": [
    "\"\"\"\n",
    "P(C) = 0,4\n",
    "P(R|C) = 0,2\n",
    "P(R|-C) = 0,2\n",
    "Law of total probability\n",
    "P(R) = P(R|C)*P(C) + P(R|-C)*P(-C)\n",
    "P(-C) = 1 - P(C) = 1-0,4 = 0,6\n",
    "\n",
    "P(R)= 1/2 * 4/10 + 1/5 + 6/10 = 10/50 + 6/50 = 16/50 =  8/25\n",
    "\n",
    "\"\"\""
   ]
  },
  {
   "cell_type": "markdown",
   "metadata": {},
   "source": [
    "## Challenge 3\n",
    "\n",
    "A and B are events of a probability such that $P(A) = 0.3$, $P(B) = 0.6$ and $P(A \\cap B) = 0.1$\n",
    "\n",
    "Which of the following statements are true?  \n",
    "**HINT: draw a big Venn Diagram by your side**  \n",
    "* $P(\\overline{A}) = 0.7$\n",
    "* $P(A \\cup B) = 0.6$\n",
    "* $P(A \\cap \\overline{B}) = 0.2$\n",
    "* $P(A \\cup \\overline{A}) = 1$  \n",
    "* $P(A \\cap (B \\cup \\overline{B})) = 0.4$\n",
    "* $P(\\overline{A} \\cap \\overline{B}) = 0.3$\n",
    "* $P(\\overline{A \\cap B}) = 0.9$"
   ]
  },
  {
   "cell_type": "markdown",
   "metadata": {},
   "source": [
    "\"\"\"\n",
    "* $P(\\overline{A}) = 0.7$ TRUE\n",
    "* $P(A \\cup B) = 0.6$ FALSE Result: 0,8\n",
    "* $P(A \\cap \\overline{B}) = 0.2$ TRUE\n",
    "* $P(A \\cup \\overline{A}) = 1$  TRUE\n",
    "* $P(A \\cap (B \\cup \\overline{B})) = 0.4$ FALSE Result: P(A) = 0,3\n",
    "* $P(\\overline{A} \\cap \\overline{B}) = 0.3$ FALSE Result: 1 - P(A U B) = 0,2\n",
    "* $P(\\overline{A \\cap B}) = 0.9$ TRUE 1 - $P(A \\cap \\overline{B})$\n",
    "\"\"\""
   ]
  },
  {
   "cell_type": "markdown",
   "metadata": {},
   "source": [
    "## Challenge 4\n",
    "\n",
    " * If someone flies to China, the probability of getting Covid is 1%  \n",
    " * If someone flies to Italy, the probability of getting Covid is 20%  \n",
    "\n",
    "I roll 1 dice with numbers 1, 2, 3, 4, 5, 6:  \n",
    " * If 1: I fly to Italy\n",
    " * If not 1: I fly to China\n",
    "\n",
    "During my trip, I got Covid. What is the probability that I flew to China?"
   ]
  },
  {
   "cell_type": "code",
   "execution_count": 7,
   "metadata": {},
   "outputs": [
    {
     "name": "stdout",
     "output_type": "stream",
     "text": [
      "The probabili of flying to china is 0.2\n"
     ]
    }
   ],
   "source": [
    "def probability_flew_to_china():\n",
    "    \n",
    "    I = 1/6       \n",
    "    C = 5/6      \n",
    "    P_covid_given_I = 0.20  \n",
    "    P_covid_given_C = 0.01  \n",
    "\n",
    "    P_covid = (P_covid_given_I * I) + (P_covid_given_C * C)\n",
    "\n",
    "    P_C_given_covid = (P_covid_given_C * C) / P_covid\n",
    "\n",
    "    return P_C_given_covid\n",
    "\n",
    "print(f\"The probabili of flying to china is {probability_flew_to_china()}\")\n"
   ]
  },
  {
   "cell_type": "code",
   "execution_count": null,
   "metadata": {},
   "outputs": [],
   "source": [
    "\"\"\"\n",
    "The probability of flying to china is 0,2\n",
    "\"\"\""
   ]
  },
  {
   "cell_type": "markdown",
   "metadata": {},
   "source": [
    "## BONUS\n",
    "\n",
    "You roll 2 dice. What is the probability that the sum of the numbers is 7? And 8? And 9? Then simulate 10000 times and draw a countplot."
   ]
  },
  {
   "cell_type": "markdown",
   "metadata": {},
   "source": [
    "your explanation here"
   ]
  },
  {
   "cell_type": "code",
   "execution_count": 8,
   "metadata": {},
   "outputs": [
    {
     "data": {
      "image/png": "[encoded data removed]",
      "text/plain": [
       "<Figure size 640x480 with 1 Axes>"
      ]
     },
     "metadata": {},
     "output_type": "display_data"
    }
   ],
   "source": [
    "import random\n",
    "import seaborn as sns\n",
    "import matplotlib.pyplot as plt\n",
    "\n",
    "def roll_dice():\n",
    "    dice1 = random.randint(1, 6)\n",
    "    dice2 = random.randint(1, 6)\n",
    "    return dice1 + dice2\n",
    "\n",
    "rolls = [roll_dice() for _ in range(10000)]\n",
    "\n",
    "sns.countplot(rolls)\n",
    "plt.title('Countplot of dice roll sums over 10,000 rolls')\n",
    "plt.xlabel('Sum')\n",
    "plt.ylabel('Frequency')\n",
    "plt.show()\n"
   ]
  },
  {
   "cell_type": "code",
   "execution_count": null,
   "metadata": {},
   "outputs": [],
   "source": [
    "\"\"\"\n",
    "your solution here\n",
    "\"\"\""
   ]
  },
  {
   "cell_type": "code",
   "execution_count": 7,
   "metadata": {},
   "outputs": [
    {
     "name": "stdout",
     "output_type": "stream",
     "text": [
      "Count of 2 = 280\n",
      "Count of 3 = 535\n",
      "Count of 4 = 820\n",
      "Count of 5 = 1092\n",
      "Count of 6 = 1402\n",
      "Count of 7 = 1669\n",
      "Count of 8 = 1379\n",
      "Count of 9 = 1146\n",
      "Count of 10 = 824\n",
      "Count of 11 = 575\n",
      "Count of 12 = 278\n"
     ]
    }
   ],
   "source": [
    "import random\n",
    "\n",
    "\n",
    "def roll_dice():\n",
    "    dice1 = random.randint(1, 6)\n",
    "    dice2 = random.randint(1, 6)\n",
    "    return dice1 + dice2\n",
    "\n",
    "rolls = [roll_dice() for _ in range(10000)]\n",
    "\n",
    "count2 = 0\n",
    "count3 = 0\n",
    "count4 = 0\n",
    "count5 = 0\n",
    "count6 = 0\n",
    "count7 = 0\n",
    "count8 = 0\n",
    "count9 = 0\n",
    "count10 = 0\n",
    "count11 = 0\n",
    "count12 = 0\n",
    "\n",
    "for i in rolls:\n",
    "    if i == 2:\n",
    "        count2 += 1\n",
    "    elif i == 3:\n",
    "        count3 += 1\n",
    "    elif i == 4:\n",
    "        count4 += 1\n",
    "    elif i == 5:\n",
    "        count5 += 1\n",
    "    elif i == 6:\n",
    "        count6 += 1\n",
    "    elif i == 7:\n",
    "        count7 += 1\n",
    "    elif i == 8:\n",
    "        count8 += 1\n",
    "    elif i == 9:\n",
    "        count9 += 1\n",
    "    elif i == 10:\n",
    "        count10 += 1\n",
    "    elif i == 11:\n",
    "        count11 += 1\n",
    "    elif i == 12:\n",
    "        count12 += 1\n",
    "        # \n",
    "print(f\"Count of 2 = {count2}\")\n",
    "print(f\"Count of 3 = {count3}\")\n",
    "print(f\"Count of 4 = {count4}\")\n",
    "print(f\"Count of 5 = {count5}\")\n",
    "print(f\"Count of 6 = {count6}\")\n",
    "print(f\"Count of 7 = {count7}\")\n",
    "print(f\"Count of 8 = {count8}\")\n",
    "print(f\"Count of 9 = {count9}\")\n",
    "print(f\"Count of 10 = {count10}\")\n",
    "print(f\"Count of 11 = {count11}\")\n",
    "print(f\"Count of 12 = {count12}\")\n",
    "\n",
    "\n",
    "\n",
    "    \n",
    "\n"
   ]
  },
  {
   "cell_type": "code",
   "execution_count": 15,
   "metadata": {},
   "outputs": [
    {
     "data": {
      "image/png": "[encoded data removed]",
      "text/plain": [
       "<Figure size 640x480 with 1 Axes>"
      ]
     },
     "metadata": {},
     "output_type": "display_data"
    }
   ],
   "source": [
    "import matplotlib.pyplot as plt\n",
    "\n",
    "counts = [count2, count3, count4, count5, count6, count7, count8, count9, count10, count11, count12]\n",
    "labels = [2, 3, 4, 5, 6, 7, 8, 9, 10, 11, 12]\n",
    "\n",
    "plt.bar(labels,counts)\n",
    "\n",
    "plt.xlabel('Outcome')\n",
    "plt.ylabel('Count')\n",
    "plt.title('Histogram of Counts')\n",
    "plt.xticks(labels)\n",
    "\n",
    "# Show the plot\n",
    "plt.show()\n"
   ]
  },
  {
   "cell_type": "code",
   "execution_count": null,
   "metadata": {},
   "outputs": [],
   "source": []
  }
 ],
 "metadata": {
  "kernelspec": {
   "display_name": "Python 3",
   "language": "python",
   "name": "python3"
  },
  "language_info": {
   "codemirror_mode": {
    "name": "ipython",
    "version": 3
   },
   "file_extension": ".py",
   "mimetype": "text/x-python",
   "name": "python",
   "nbconvert_exporter": "python",
   "pygments_lexer": "ipython3",
   "version": "3.12.0"
  },
  "toc": {
   "base_numbering": 1,
   "nav_menu": {},
   "number_sections": false,
   "sideBar": true,
   "skip_h1_title": false,
   "title_cell": "Table of Contents",
   "title_sidebar": "Contents",
   "toc_cell": false,
   "toc_position": {
    "height": "calc(100% - 180px)",
    "left": "10px",
    "top": "150px",
    "width": "296.475px"
   },
   "toc_section_display": true,
   "toc_window_display": false
  },
  "varInspector": {
   "cols": {
    "lenName": 16,
    "lenType": 16,
    "lenVar": 40
   },
   "kernels_config": {
    "python": {
     "delete_cmd_postfix": "",
     "delete_cmd_prefix": "del ",
     "library": "var_list.py",
     "varRefreshCmd": "print(var_dic_list())"
    },
    "r": {
     "delete_cmd_postfix": ") ",
     "delete_cmd_prefix": "rm(",
     "library": "var_list.r",
     "varRefreshCmd": "cat(var_dic_list()) "
    }
   },
   "types_to_exclude": [
    "module",
    "function",
    "builtin_function_or_method",
    "instance",
    "_Feature"
   ],
   "window_display": false
  }
 },
 "nbformat": 4,
 "nbformat_minor": 2
}
