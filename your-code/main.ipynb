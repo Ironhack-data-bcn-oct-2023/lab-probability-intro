{
 "cells": [
  {
   "cell_type": "markdown",
   "metadata": {},
   "source": [
    "# Probability"
   ]
  },
  {
   "cell_type": "markdown",
   "metadata": {},
   "source": [
    "## Challenge 1\n",
    "There is a box with 10 white balls, 12 red balls and 8 black balls. Calculate the probability of:\n",
    "* Taking a white ball out.\n",
    "* Taking a white ball on first extraction and a black ball out on second extraction without replacing the first one.\n",
    "* Taking a white ball on first extraction and a black ball out on second extraction replacing the first one.\n",
    "* Taking 3 balls and them being all different colours."
   ]
  },
  {
   "cell_type": "code",
   "execution_count": 1,
   "metadata": {},
   "outputs": [],
   "source": [
    "import math"
   ]
  },
  {
   "cell_type": "code",
   "execution_count": 2,
   "metadata": {},
   "outputs": [],
   "source": [
    "\"\"\"\n",
    "your solution here\n",
    "\"\"\"\n",
    "\n",
    "w = 10\n",
    "r = 12\n",
    "b = 8\n",
    "\n",
    "box_amount = 30"
   ]
  },
  {
   "cell_type": "code",
   "execution_count": 3,
   "metadata": {},
   "outputs": [
    {
     "data": {
      "text/plain": [
       "0.3333333333333333"
      ]
     },
     "execution_count": 3,
     "metadata": {},
     "output_type": "execute_result"
    }
   ],
   "source": [
    "one_white_ball_out = w / box_amount\n",
    "one_white_ball_out"
   ]
  },
  {
   "cell_type": "code",
   "execution_count": 4,
   "metadata": {},
   "outputs": [
    {
     "data": {
      "text/plain": [
       "0.09195402298850575"
      ]
     },
     "execution_count": 4,
     "metadata": {},
     "output_type": "execute_result"
    }
   ],
   "source": [
    "# Number of black balls after one white is drawn\n",
    "black_balls_after_white = 8\n",
    "\n",
    "# Probability of drawing a white ball first\n",
    "white_p = w / box_amount\n",
    "\n",
    "# Probability of drawing a black ball second, without replacement\n",
    "sec_black_ball_p = black_balls_after_white / (box_amount - 1)\n",
    "\n",
    "# Combined probability\n",
    "p_white_then_black = white_p * sec_black_ball_p\n",
    "p_white_then_black\n",
    "\n",
    "# OTHER WAY\n",
    "\n",
    "result = 10/30 * 8/29\n",
    "result"
   ]
  },
  {
   "cell_type": "code",
   "execution_count": 5,
   "metadata": {
    "scrolled": true
   },
   "outputs": [
    {
     "data": {
      "text/plain": [
       "0.08888888888888888"
      ]
     },
     "execution_count": 5,
     "metadata": {},
     "output_type": "execute_result"
    }
   ],
   "source": [
    "first_ext = w / box_amount\n",
    "second_ext = b / box_amount\n",
    "prob = first_ext * second_ext\n",
    "prob"
   ]
  },
  {
   "cell_type": "code",
   "execution_count": 6,
   "metadata": {},
   "outputs": [
    {
     "data": {
      "text/plain": [
       "0.23645320197044334"
      ]
     },
     "execution_count": 6,
     "metadata": {},
     "output_type": "execute_result"
    }
   ],
   "source": [
    "\n",
    "# Number of ways to choose 1 red ball from 5\n",
    "white_ways = math.comb(w, 1)\n",
    "\n",
    "# Number of ways to choose 1 black ball from 3\n",
    "red_ways = math.comb(r, 1)\n",
    "\n",
    "# Number of ways to choose 1 white ball from 1\n",
    "black_ways = math.comb(b, 1)\n",
    "\n",
    "# Total number of ways to choose 3 balls from 9\n",
    "total_ways = math.comb(box_amount, 3)\n",
    "\n",
    "# Probability of drawing one of each color\n",
    "probability = (white_ways * red_ways * black_ways) / total_ways\n",
    "probability\n"
   ]
  },
  {
   "cell_type": "markdown",
   "metadata": {},
   "source": [
    "## Challenge 2\n",
    "\n",
    "You want to go on picnic on Saturday. You hate rain, and would know to plan your weekend. To help you make a decision, you gather the following data about rainy days:\n",
    "\n",
    "* 40% of all days are cloudy.\n",
    "* About 50% of cloudy days are rainy. \n",
    "* About 20% of non-cloudy days are rainy.\n",
    "\n",
    "What is the chance of rain during next Saturday?"
   ]
  },
  {
   "cell_type": "code",
   "execution_count": 7,
   "metadata": {},
   "outputs": [
    {
     "data": {
      "text/plain": [
       "0.32"
      ]
     },
     "execution_count": 7,
     "metadata": {},
     "output_type": "execute_result"
    }
   ],
   "source": [
    "\"\"\"\n",
    "your solution here\n",
    "\"\"\"\n",
    "prob_cloudy = 0.4\n",
    "prob_cloudy_rain = 0.5\n",
    "prob_non_cloudy_rain = 0.2\n",
    "\n",
    "prob_non_cloudy = 1 - prob_cloudy\n",
    "\n",
    "#Prob or rain\n",
    "prob_rain = (prob_cloudy * prob_cloudy_rain) + (prob_non_cloudy * prob_non_cloudy_rain)\n",
    "prob_rain"
   ]
  },
  {
   "cell_type": "markdown",
   "metadata": {},
   "source": [
    "## Challenge 3\n",
    "\n",
    "A and B are events of a probability such that $P(A) = 0.3$, $P(B) = 0.6$ and $P(A \\cap B) = 0.1$\n",
    "\n",
    "Which of the following statements are true?  \n",
    "**HINT: draw a big Venn Diagram by your side**  \n",
    "* $P(\\overline{A}) = 0.7$\n",
    "* $P(A \\cup B) = 0.6$\n",
    "* $P(A \\cap \\overline{B}) = 0.2$\n",
    "* $P(A \\cup \\overline{A}) = 1$  \n",
    "* $P(A \\cap (B \\cup \\overline{B})) = 0.4$\n",
    "* $P(\\overline{A} \\cap \\overline{B}) = 0.3$\n",
    "* $P(\\overline{A \\cap B}) = 0.9$"
   ]
  },
  {
   "cell_type": "markdown",
   "metadata": {},
   "source": [
    "* $P(\\overline{A}) = 0.7$     = **TRUE**\n",
    "* $P(A \\cup B) = 0.6$     = **FALSE, is 0.3 + 0.6 - 0.1 = 0.8**\n",
    "* $P(A \\cap \\overline{B}) = 0.2$    = **TRUE, B hat = 1 - B, In this case: A inside B hat - B = 0.2**\n",
    "* $P(A \\cup \\overline{A}) = 1$  = **TRUE**\n",
    "* $P(A \\cap (B \\cup \\overline{B})) = 0.4$ **FALSE, SHOULD BE A - Intersec = 0.3**\n",
    "* $P(\\overline{A} \\cap \\overline{B}) = 0.3$ **FAlSE is 0.2**,  **P(A'∩B')=P(A')+P(B')−P(A'UB')= 0.7 + 0.4 - (0.3+0.6)= 0.2**\n",
    "* $P(\\overline{A \\cap B}) = 0.9$ **TRUE** "
   ]
  },
  {
   "cell_type": "markdown",
   "metadata": {},
   "source": [
    "## Challenge 4\n",
    "\n",
    " * If someone flies to China, the probability of getting Covid is 1%  \n",
    " * If someone flies to Italy, the probability of getting Covid is 20%  \n",
    "\n",
    "I roll 1 dice with numbers 1, 2, 3, 4, 5, 6:  \n",
    " * If 1: I fly to Italy\n",
    " * If not 1: I fly to China\n",
    "\n",
    "During my trip, I got Covid. What is the probability that I flew to China?"
   ]
  },
  {
   "cell_type": "code",
   "execution_count": 13,
   "metadata": {},
   "outputs": [
    {
     "data": {
      "text/plain": [
       "0.2"
      ]
     },
     "execution_count": 13,
     "metadata": {},
     "output_type": "execute_result"
    }
   ],
   "source": [
    "# your code here\n",
    "\n",
    "covid_china = 0.01\n",
    "covid_italy = 0.2\n",
    "\n",
    "p_fly_china = 5 / 6       \n",
    "p_fly_italy = 1 / 6       \n",
    "\n",
    "p_get_covid = (covid_china * p_fly_china) + (covid_italy * p_fly_italy)\n",
    "\n",
    "p_went_china = (p_fly_china * covid_china) / p_get_covid\n",
    "p_went_china"
   ]
  },
  {
   "cell_type": "markdown",
   "metadata": {},
   "source": [
    "## BONUS\n",
    "\n",
    "You roll 2 dice. What is the probability that the sum of the numbers is 7? And 8? And 9? Then simulate 10000 times and draw a countplot."
   ]
  },
  {
   "cell_type": "markdown",
   "metadata": {},
   "source": [
    "your explanation here"
   ]
  },
  {
   "cell_type": "code",
   "execution_count": 26,
   "metadata": {},
   "outputs": [
    {
     "data": {
      "image/png": "[encoded data removed]",
      "text/plain": [
       "<Figure size 1000x600 with 1 Axes>"
      ]
     },
     "metadata": {},
     "output_type": "display_data"
    },
    {
     "data": {
      "text/plain": [
       "(0.164, 0.1432, 0.1049)"
      ]
     },
     "execution_count": 26,
     "metadata": {},
     "output_type": "execute_result"
    }
   ],
   "source": [
    "n_simulations = 10000\n",
    "roll_1 = np.random.randint(1, 7, n_simulations)\n",
    "roll_2 = np.random.randint(1, 7, n_simulations)\n",
    "sum_rolls = roll_1 + roll_2\n",
    "\n",
    "# Calculate the empirical probabilities\n",
    "prob_7 = np.mean(sum_rolls == 7)\n",
    "prob_8 = np.mean(sum_rolls == 8)\n",
    "prob_9 = np.mean(sum_rolls == 9)\n",
    "\n",
    "# Create a countplot\n",
    "plt.figure(figsize=(10, 6))\n",
    "sns.countplot(x=sum_rolls)\n",
    "plt.title('Countplot of the Sum of Two Dice Rolls (10,000 simulations)')\n",
    "plt.xlabel('Sum of Dice Roll')\n",
    "plt.ylabel('Count')\n",
    "plt.show()\n",
    "\n",
    "prob_7, prob_8, prob_9\n"
   ]
  },
  {
   "cell_type": "code",
   "execution_count": null,
   "metadata": {},
   "outputs": [],
   "source": []
  }
 ],
 "metadata": {
  "kernelspec": {
   "display_name": "Python 3 (ipykernel)",
   "language": "python",
   "name": "python3"
  },
  "language_info": {
   "codemirror_mode": {
    "name": "ipython",
    "version": 3
   },
   "file_extension": ".py",
   "mimetype": "text/x-python",
   "name": "python",
   "nbconvert_exporter": "python",
   "pygments_lexer": "ipython3",
   "version": "3.11.5"
  },
  "toc": {
   "base_numbering": 1,
   "nav_menu": {},
   "number_sections": false,
   "sideBar": true,
   "skip_h1_title": false,
   "title_cell": "Table of Contents",
   "title_sidebar": "Contents",
   "toc_cell": false,
   "toc_position": {
    "height": "calc(100% - 180px)",
    "left": "10px",
    "top": "150px",
    "width": "296.475px"
   },
   "toc_section_display": true,
   "toc_window_display": false
  },
  "varInspector": {
   "cols": {
    "lenName": 16,
    "lenType": 16,
    "lenVar": 40
   },
   "kernels_config": {
    "python": {
     "delete_cmd_postfix": "",
     "delete_cmd_prefix": "del ",
     "library": "var_list.py",
     "varRefreshCmd": "print(var_dic_list())"
    },
    "r": {
     "delete_cmd_postfix": ") ",
     "delete_cmd_prefix": "rm(",
     "library": "var_list.r",
     "varRefreshCmd": "cat(var_dic_list()) "
    }
   },
   "types_to_exclude": [
    "module",
    "function",
    "builtin_function_or_method",
    "instance",
    "_Feature"
   ],
   "window_display": false
  }
 },
 "nbformat": 4,
 "nbformat_minor": 2
}
