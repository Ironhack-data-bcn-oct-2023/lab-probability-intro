{
 "cells": [
  {
   "cell_type": "markdown",
   "metadata": {},
   "source": [
    "# Probability"
   ]
  },
  {
   "cell_type": "markdown",
   "metadata": {},
   "source": [
    "## Challenge 1\n",
    "There is a box with 10 white balls, 12 red balls and 8 black balls. Calculate the probability of:\n",
    "* Taking a white ball out.\n",
    "* Taking a white ball on first extraction and a black ball out on second extraction without replacing the first one.\n",
    "* Taking a white ball on first extraction and a black ball out on second extraction replacing the first one.\n",
    "* Taking 3 balls and them being all different colours."
   ]
  },
  {
   "cell_type": "code",
   "execution_count": 22,
   "metadata": {},
   "outputs": [
    {
     "name": "stdout",
     "output_type": "stream",
     "text": [
      "0.33333  - White ball out \n",
      "0.09195402298850575  - Taking a white ball on first extraction and a black ball out on second extraction without replacing the first one.\n",
      "0.08888888888888888  - Taking a white ball on first extraction and a black ball out on second extraction replacing the first one\n",
      "0.23645320197044334 - Taking 3 balls and them being all different colours:\n"
     ]
    }
   ],
   "source": [
    "def factorial (n):\n",
    "    if n == 0:\n",
    "        return 1 # 0 returns 1 because its the only combination for arranging it\n",
    "    else:\n",
    "        #print(f\"The n is: {n}, multiplied by {n-1}\")\n",
    "        return n * factorial (n-1)\n",
    "\n",
    "white = 10\n",
    "red = 12\n",
    "black = 8\n",
    "sample = white+red+black\n",
    "\n",
    "# a White ball out\n",
    "\n",
    "p = white / sample\n",
    "print(round(p,5),\" - White ball out \")\n",
    "\n",
    "# Taking a white ball on first extraction and a black ball out on second extraction without replacing the first one.\n",
    "\n",
    "one_ball = (white/sample) * (black/(sample-1))\n",
    "print(one_ball, \" - Taking a white ball on first extraction and a black ball out on second extraction without replacing the first one.\")\n",
    "\n",
    "# Taking a white ball on first extraction and a black ball out on second extraction replacing the first one.\n",
    "\n",
    "ball_replace = (white/sample) * (black/(sample))\n",
    "print(ball_replace,\" - Taking a white ball on first extraction and a black ball out on second extraction replacing the first one\")\n",
    "\n",
    "# Taking 3 balls and them being all different colours.\n",
    "\n",
    "comb = factorial(sample)/(factorial(3)*factorial(sample-3))\n",
    "ways_one_ball = white*red*black\n",
    "p_3_balls = ways_one_ball/comb\n",
    "print(p_3_balls,\"- Taking 3 balls and them being all different colours:\")\n",
    "\n",
    "\n"
   ]
  },
  {
   "cell_type": "markdown",
   "metadata": {},
   "source": [
    "## Challenge 2\n",
    "\n",
    "You want to go on picnic on Saturday. You hate rain, and would know to plan your weekend. To help you make a decision, you gather the following data about rainy days:\n",
    "\n",
    "* 40% of all days are cloudy.\n",
    "* About 50% of cloudy days are rainy. \n",
    "* About 20% of non-cloudy days are rainy.\n",
    "\n",
    "What is the chance of rain during next Saturday?"
   ]
  },
  {
   "cell_type": "code",
   "execution_count": 31,
   "metadata": {},
   "outputs": [
    {
     "data": {
      "text/plain": [
       "0.32"
      ]
     },
     "execution_count": 31,
     "metadata": {},
     "output_type": "execute_result"
    }
   ],
   "source": [
    "cloudy = 0.4\n",
    "cloud_rainy = 0.50\n",
    "non_cloud = 0.6\n",
    "non_cloud_rain = 0.2\n",
    "\n",
    "rainy = (cloudy*cloud_rainy)+(non_cloud*non_cloud_rain)\n",
    "rainy"
   ]
  },
  {
   "cell_type": "markdown",
   "metadata": {},
   "source": [
    "## Challenge 3\n",
    "\n",
    "A and B are events of a probability such that $P(A) = 0.3$, $P(B) = 0.6$ and $P(A \\cap B) = 0.1$\n",
    "\n",
    "Which of the following statements are true?  \n",
    "**HINT: draw a big Venn Diagram by your side**  \n",
    "1. $P(\\overline{A}) = 0.7$ \n",
    "2. $P(A \\cup B) = 0.6$ \n",
    "3. $P(A \\cap \\overline{B}) = 0.2$\n",
    "4. $P(A \\cup \\overline{A}) = 1$  \n",
    "5. $P(A \\cap (B \\cup \\overline{B})) = 0.4$\n",
    "6. $P(\\overline{A} \\cap \\overline{B}) = 0.3$\n",
    "7. $P(\\overline{A \\cap B}) = 0.9$"
   ]
  },
  {
   "cell_type": "code",
   "execution_count": 49,
   "metadata": {},
   "outputs": [
    {
     "name": "stdout",
     "output_type": "stream",
     "text": [
      "1. True : 0.7\n",
      "2. False : 0.7999999999999999\n",
      "3. True : 0.19999999999999998\n",
      "4. True : 1.0\n",
      "5. False: 0.12\n",
      "6. False : 0.20000000000000007\n",
      "7. False  : 0.20000000000000007\n"
     ]
    }
   ],
   "source": [
    "pA = 0.3\n",
    "pB = 0.6\n",
    "pAnB = 0.1\n",
    "pB_ = 1-pB\n",
    "\n",
    "\n",
    "pA_= 1-pA\n",
    "print(\"1. True :\",pA_)\n",
    "\n",
    "pAuB = pA+pB-pAnB\n",
    "print(\"2. False :\",pAuB)\n",
    "\n",
    "pAnB_ = pA-(pAnB)\n",
    "print(\"3. True :\",pAnB_)\n",
    "\n",
    "pAuA_ = pA+pA_\n",
    "print(\"4. True :\",pAuA_)\n",
    "\n",
    "pAnBuB_ = pA*(1-pB)\n",
    "print(\"5. False:\",pAnBuB_)\n",
    "\n",
    "pAuA_ = 1-pAuB\n",
    "print(\"6. False :\",pAuA_)\n",
    "\n",
    "pA_nB_ = 1-(pAuB)\n",
    "print(\"7. False  :\",pA_nB_)\n"
   ]
  },
  {
   "cell_type": "markdown",
   "metadata": {},
   "source": [
    "## Challenge 4\n",
    "\n",
    " * If someone flies to China, the probability of getting Covid is 1%  \n",
    " * If someone flies to Italy, the probability of getting Covid is 20%  \n",
    "\n",
    "I roll 1 dice with numbers 1, 2, 3, 4, 5, 6:  \n",
    " * If 1: I fly to Italy\n",
    " * If not 1: I fly to China\n",
    "\n",
    "During my trip, I got Covid. What is the probability that I flew to China?"
   ]
  },
  {
   "cell_type": "code",
   "execution_count": 55,
   "metadata": {},
   "outputs": [
    {
     "data": {
      "text/plain": [
       "0.20595533498759305"
      ]
     },
     "execution_count": 55,
     "metadata": {},
     "output_type": "execute_result"
    }
   ],
   "source": [
    "p_China = 5/6\n",
    "p_Italy = 1/6\n",
    "p_covid_china = 0.01 #P(B|A)\n",
    "p_covid_italy = 0.2\n",
    "\n",
    "flight = (p_covid_china*p_China)/(p_covid_china*p_China+p_covid_italy*p_Italy)\n",
    "flight\n"
   ]
  },
  {
   "cell_type": "code",
   "execution_count": 62,
   "metadata": {},
   "outputs": [
    {
     "name": "stdout",
     "output_type": "stream",
     "text": [
      "Probability that he flew to China is  0.20595533498759305\n"
     ]
    }
   ],
   "source": [
    "print(\"Probability that he flew to China is \",flight)\n"
   ]
  },
  {
   "cell_type": "markdown",
   "metadata": {},
   "source": [
    "## BONUS\n",
    "\n",
    "You roll 2 dice. What is the probability that the sum of the numbers is 7? And 8? And 9? Then simulate 10000 times and draw a countplot."
   ]
  },
  {
   "cell_type": "markdown",
   "metadata": {},
   "source": [
    "your explanation here"
   ]
  },
  {
   "cell_type": "markdown",
   "metadata": {},
   "source": [
    "Our sample space is 36 possible outcomes as we will roll 2 dices at once.\n",
    "\n",
    "For number 7  -> P(7) = 6/36 \n",
    "For number 8  -> P(8) = 5/36 \n",
    "For number 9  -> P(9) = 4/36 \n",
    "\n",
    "If we simulate 10000 rolls we can see that number 7 is most probable number , as outcome is shown as well.\n",
    "\n",
    "We have more data, we are more close of probability"
   ]
  },
  {
   "cell_type": "code",
   "execution_count": 69,
   "metadata": {},
   "outputs": [
    {
     "data": {
      "image/png": "[encoded data removed]",
      "text/plain": [
       "<Figure size 800x600 with 1 Axes>"
      ]
     },
     "metadata": {},
     "output_type": "display_data"
    }
   ],
   "source": [
    "import random\n",
    "import matplotlib.pyplot as plt\n",
    "import seaborn as sns\n",
    "\n",
    "dices = [random.randint(1, 6) + random.randint(1, 6) for _ in range(10000)]\n",
    "\n",
    "sns.set(style=\"whitegrid\")\n",
    "plt.figure(figsize=(8, 6))\n",
    "sns.countplot(x=dices, palette=\"pastel\",hue=dices)\n",
    "plt.xlabel(\"Dices Number\")\n",
    "plt.ylabel(\"Count\")\n",
    "plt.title(\"Distribution of 10,000 dice rolls\")\n",
    "plt.show()"
   ]
  },
  {
   "cell_type": "code",
   "execution_count": null,
   "metadata": {},
   "outputs": [],
   "source": []
  }
 ],
 "metadata": {
  "kernelspec": {
   "display_name": "Python 3",
   "language": "python",
   "name": "python3"
  },
  "language_info": {
   "codemirror_mode": {
    "name": "ipython",
    "version": 3
   },
   "file_extension": ".py",
   "mimetype": "text/x-python",
   "name": "python",
   "nbconvert_exporter": "python",
   "pygments_lexer": "ipython3",
   "version": "3.11.4"
  },
  "toc": {
   "base_numbering": 1,
   "nav_menu": {},
   "number_sections": false,
   "sideBar": true,
   "skip_h1_title": false,
   "title_cell": "Table of Contents",
   "title_sidebar": "Contents",
   "toc_cell": false,
   "toc_position": {
    "height": "calc(100% - 180px)",
    "left": "10px",
    "top": "150px",
    "width": "296.475px"
   },
   "toc_section_display": true,
   "toc_window_display": false
  },
  "varInspector": {
   "cols": {
    "lenName": 16,
    "lenType": 16,
    "lenVar": 40
   },
   "kernels_config": {
    "python": {
     "delete_cmd_postfix": "",
     "delete_cmd_prefix": "del ",
     "library": "var_list.py",
     "varRefreshCmd": "print(var_dic_list())"
    },
    "r": {
     "delete_cmd_postfix": ") ",
     "delete_cmd_prefix": "rm(",
     "library": "var_list.r",
     "varRefreshCmd": "cat(var_dic_list()) "
    }
   },
   "types_to_exclude": [
    "module",
    "function",
    "builtin_function_or_method",
    "instance",
    "_Feature"
   ],
   "window_display": false
  }
 },
 "nbformat": 4,
 "nbformat_minor": 2
}
