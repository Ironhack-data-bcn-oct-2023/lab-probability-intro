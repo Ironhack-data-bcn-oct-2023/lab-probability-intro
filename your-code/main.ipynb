{
 "cells": [
  {
   "cell_type": "markdown",
   "metadata": {},
   "source": [
    "# Probability"
   ]
  },
  {
   "cell_type": "markdown",
   "metadata": {},
   "source": [
    "**Permutations**: all the elements are used, order matters because ABC is different from BCA. \n",
    "    Formula = Factorial\n",
    "**Combinations**: only some elements are used, order doesn't matter because ABC or BCA are the same, items cannot be repeated because if B was used in ABC cannot be used in BCA\n",
    "    Formula = N!/(k!.(N-k)!)\n",
    "****\n"
   ]
  },
  {
   "cell_type": "code",
   "execution_count": 10,
   "metadata": {},
   "outputs": [],
   "source": [
    "def factorial (n):\n",
    "    \"\"\"Little recursive function :)\"\"\"\n",
    "    if n == 0:\n",
    "        return 1 # 0 returns 1 because its the only combination for arranging it\n",
    "    else:\n",
    "        #print(f\"The n is: {n}, multiplied by {n-1}\")\n",
    "        return n * factorial (n-1)"
   ]
  },
  {
   "cell_type": "markdown",
   "metadata": {},
   "source": [
    "## Challenge 1\n",
    "There is a box with 10 white balls, 12 red balls and 8 black balls. Calculate the probability of:\n",
    "* Taking a white ball out.\n",
    "* Taking a white ball on first extraction and a black ball out on second extraction without replacing the first one.\n",
    "* Taking a white ball on first extraction and a black ball out on second extraction replacing the first one.\n",
    "* Taking 3 balls and them being all different colours."
   ]
  },
  {
   "cell_type": "code",
   "execution_count": 18,
   "metadata": {},
   "outputs": [
    {
     "name": "stdout",
     "output_type": "stream",
     "text": [
      "Taking a white ball out = 0.3333333333333333\n",
      "Taking a white ball on first extraction and a black ball out on second extraction without replacing the first one. = 0.09195402298850575\n",
      "Taking a white ball on first extraction and a black ball out on second extraction replacing the first one. = 0.08888888888888888\n",
      "Taking 3 balls and them being all different colours. = 0.0002463054187192118\n"
     ]
    }
   ],
   "source": [
    "count_white = 10\n",
    "count_red = 12\n",
    "count_black = 8\n",
    "\n",
    "prob_white_out = count_white / (count_white + count_red + count_black)\n",
    "#10/30\n",
    "print(f\"Taking a white ball out = {prob_white_out}\")\n",
    "\n",
    "prob_white_1_black_2_no_replc = prob_white_out * (count_black/((count_white + count_red + count_black)-1))\n",
    "#(10/30)*(8/29)\n",
    "print(f\"Taking a white ball on first extraction and a black ball out on second extraction without replacing the first one. = {prob_white_1_black_2_no_replc}\")\n",
    "\n",
    "prob_white_1_black_2_WITH_replc = prob_white_out * (count_black/(count_white + count_red + count_black))\n",
    "#(10/30)*(8/30)\n",
    "print(f\"Taking a white ball on first extraction and a black ball out on second extraction replacing the first one. = {prob_white_1_black_2_WITH_replc}\")\n",
    "\n",
    "three_diff_colours = 1 / (factorial(30) / (factorial(3)*factorial(30-3)))\n",
    "#N!/(k!.(N-k)!) 30!/(3!(30-3)!) \n",
    "print(f\"Taking 3 balls and them being all different colours. = {three_diff_colours}\")\n"
   ]
  },
  {
   "cell_type": "markdown",
   "metadata": {},
   "source": [
    "## Challenge 2\n",
    "\n",
    "You want to go on picnic on Saturday. You hate rain, and would know to plan your weekend. To help you make a decision, you gather the following data about rainy days:\n",
    "\n",
    "* 40% of all days are cloudy.\n",
    "* About 50% of cloudy days are rainy. \n",
    "* About 20% of non-cloudy days are rainy.\n",
    "\n",
    "What is the chance of rain during next Saturday?"
   ]
  },
  {
   "cell_type": "code",
   "execution_count": 16,
   "metadata": {},
   "outputs": [
    {
     "name": "stdout",
     "output_type": "stream",
     "text": [
      "chance of rain during next Saturday is 0.32\n"
     ]
    }
   ],
   "source": [
    "#compounded, based on a tree chances are = cloudy (40%) AND rainy (50%)   +   not cloud7 (60%) AND rainy (20%)\n",
    "chance_rain = 0.4*0.5 + 0.6*0.2\n",
    "print(f\"chance of rain during next Saturday is {chance_rain}\")"
   ]
  },
  {
   "cell_type": "markdown",
   "metadata": {},
   "source": [
    "## Challenge 3\n",
    "\n",
    "A and B are events of a probability such that $P(A) = 0.3$, $P(B) = 0.6$ and $P(A \\cap B) = 0.1$\n",
    "\n",
    "Which of the following statements are true?  \n",
    "**HINT: draw a big Venn Diagram by your side**  \n",
    "* $P(\\overline{A}) = 0.7$\n",
    "* $P(A \\cup B) = 0.6$\n",
    "* $P(A \\cap \\overline{B}) = 0.2$\n",
    "* $P(A \\cup \\overline{A}) = 1$  \n",
    "* $P(A \\cap (B \\cup \\overline{B})) = 0.4$\n",
    "* $P(\\overline{A} \\cap \\overline{B}) = 0.3$\n",
    "* $P(\\overline{A \\cap B}) = 0.9$"
   ]
  },
  {
   "cell_type": "code",
   "execution_count": null,
   "metadata": {},
   "outputs": [],
   "source": [
    "\"\"\"\n",
    "𝑃(𝐴⎯⎯⎯⎯): 𝑃(𝐴⎯⎯⎯⎯)=TRUE 1−𝑃(𝐴) so 1 - 0.3 = 0.7\n",
    " \n",
    "𝑃(𝐴∪𝐵)=0.6 FALSE 𝑃(𝐴∪𝐵) = P(A) + P(B) - 𝑃(𝐴∩B) = 0.3 + 0.6 - 0.1 = 0.8\n",
    " \n",
    "𝑃(𝐴∩𝐵⎯⎯⎯⎯)=0.2 TRUE because the opposite of P(B) is the whole space around B, so everything it does not cover which is\n",
    "0.4. out of these 0.4, 0.2 belong to A because 0.1 of A is inside B as well (their interesect). The interesect\n",
    "of everything that's not B and A is equal to everything that is A, except A's piece that interesects with B = 0.3-0.1 = 0.2\n",
    " \n",
    "𝑃(𝐴∪𝐴⎯⎯⎯⎯)=1 TRUE this is the same as the first hypothesis, A and NOT A cover for every possibility\n",
    " \n",
    "𝑃(𝐴∩(𝐵∪𝐵⎯⎯⎯⎯))=0.4, FALSE because 𝐵∪𝐵⎯⎯⎯⎯ cover for everything (B and NOT B = every possibility), so basically the intersect\n",
    "with A is simply A which is 0.3 and not 0.4\n",
    " \n",
    "𝑃(𝐴⎯⎯⎯⎯∩𝐵⎯⎯⎯⎯)=0.3 FALSE this is essentially the same as 1 - 𝐴∪B = 1 - 0.8 = 0.2 and not 0.3\n",
    " \n",
    "𝑃(𝐴∩𝐵⎯⎯⎯⎯⎯⎯⎯⎯⎯⎯⎯⎯⎯⎯⎯)=0.9 TRUE this is the opposite of their intersection = 1 - 0.1 = 0.9\n",
    "\"\"\"\n",
    "\n",
    "#correct answers:\n",
    "#𝑃(𝐴⎯⎯⎯⎯)=0.7\n",
    "#𝑃(𝐴∩𝐵⎯⎯⎯⎯)=0.2\n",
    "#𝑃(𝐴∪𝐴⎯⎯⎯⎯)=1\n",
    "#𝑃(𝐴∩𝐵⎯⎯⎯⎯⎯⎯⎯⎯⎯⎯⎯⎯⎯⎯⎯)=0.9"
   ]
  },
  {
   "cell_type": "markdown",
   "metadata": {},
   "source": [
    "## Challenge 4\n",
    "\n",
    " * If someone flies to China, the probability of getting Covid is 1%  \n",
    " * If someone flies to Italy, the probability of getting Covid is 20%  \n",
    "\n",
    "I roll 1 dice with numbers 1, 2, 3, 4, 5, 6:  \n",
    " * If 1: I fly to Italy\n",
    " * If not 1: I fly to China\n",
    "\n",
    "During my trip, I got Covid. What is the probability that I flew to China?"
   ]
  },
  {
   "cell_type": "code",
   "execution_count": 54,
   "metadata": {},
   "outputs": [
    {
     "name": "stdout",
     "output_type": "stream",
     "text": [
      "prob of COVID = 0.041666666666666664\n",
      "prob of having gone to China if COVID is 0.2\n"
     ]
    }
   ],
   "source": [
    "\"\"\"\n",
    "P(A) = flying to Italy = 1/6\n",
    "P(B) = flying to China = 5/6\n",
    "P(C) = probability getting COVID\n",
    "\n",
    "P(C) = Prob of going to Italy AND getting Covid + Prob going to China AND getting COVID\n",
    "P(C) = (1/6) * 20%     +     (5/6) * 1%    =   0.041666666666666664\n",
    "\n",
    "P(C|B) = 1%\n",
    "P(C|A) = 20%\n",
    "\n",
    "The question is: P(B|C)\n",
    "P(B|C) = P(B∩C) / P(C) = [P(C|B) * P(B)] / P(C) = [1% * (5/6)]/0.041666666666666664  =  \n",
    "\n",
    "\n",
    "\"\"\"\n",
    "prob_covid = (1/6)*0.2 + (5/6)*0.01\n",
    "print(f\"prob of COVID = {prob_covid}\")\n",
    "\n",
    "prob_china_if_covid = (0.01*(5/6))/prob_covid\n",
    "print(f\"prob of having gone to China if COVID is {prob_china_if_covid}\")"
   ]
  },
  {
   "cell_type": "markdown",
   "metadata": {},
   "source": [
    "## BONUS\n",
    "\n",
    "You roll 2 dice. What is the probability that the sum of the numbers is 7? And 8? And 9? Then simulate 10000 times and draw a countplot."
   ]
  },
  {
   "cell_type": "markdown",
   "metadata": {},
   "source": [
    "your explanation here"
   ]
  },
  {
   "cell_type": "code",
   "execution_count": 62,
   "metadata": {},
   "outputs": [],
   "source": [
    "\"\"\"\n",
    "I did this with a table in excel where I plotted in the x-axis 1-6 same in y-axis then did the sum of them.\n",
    "out of 36 results possible:\n",
    "\n",
    "\"\"\"\n",
    "prob_7 = 6/36\n",
    "prob_8 = 5/36\n",
    "prob_9 = 4/36"
   ]
  },
  {
   "cell_type": "markdown",
   "metadata": {},
   "source": [
    "## But Pythoning:"
   ]
  },
  {
   "cell_type": "code",
   "execution_count": 227,
   "metadata": {},
   "outputs": [],
   "source": [
    "def possible_combos():\n",
    "    possible_combinations=[]\n",
    "    for i in range (1,7):\n",
    "        for j in range (1,7):\n",
    "            possible_combinations.append([i,j])\n",
    "    return possible_combinations"
   ]
  },
  {
   "cell_type": "code",
   "execution_count": 228,
   "metadata": {
    "scrolled": true
   },
   "outputs": [
    {
     "data": {
      "text/plain": [
       "[[1, 1],\n",
       " [1, 2],\n",
       " [1, 3],\n",
       " [1, 4],\n",
       " [1, 5],\n",
       " [1, 6],\n",
       " [2, 1],\n",
       " [2, 2],\n",
       " [2, 3],\n",
       " [2, 4],\n",
       " [2, 5],\n",
       " [2, 6],\n",
       " [3, 1],\n",
       " [3, 2],\n",
       " [3, 3],\n",
       " [3, 4],\n",
       " [3, 5],\n",
       " [3, 6],\n",
       " [4, 1],\n",
       " [4, 2],\n",
       " [4, 3],\n",
       " [4, 4],\n",
       " [4, 5],\n",
       " [4, 6],\n",
       " [5, 1],\n",
       " [5, 2],\n",
       " [5, 3],\n",
       " [5, 4],\n",
       " [5, 5],\n",
       " [5, 6],\n",
       " [6, 1],\n",
       " [6, 2],\n",
       " [6, 3],\n",
       " [6, 4],\n",
       " [6, 5],\n",
       " [6, 6]]"
      ]
     },
     "execution_count": 228,
     "metadata": {},
     "output_type": "execute_result"
    }
   ],
   "source": [
    "possible_combinations = possible_combos()\n",
    "possible_combinations"
   ]
  },
  {
   "cell_type": "code",
   "execution_count": 244,
   "metadata": {},
   "outputs": [],
   "source": [
    "def possible_combos():\n",
    "    possible_combinations=[]\n",
    "    poss_combos_sum=[]\n",
    "    for i in range (1,7):\n",
    "        for j in range (1,7):\n",
    "            possible_combinations.append([i,j])\n",
    "    \n",
    "    for i in possible_combinations:\n",
    "        poss_combos_sum.append(sum(i))\n",
    "        \n",
    "    prob_7 = poss_combos_sum.count(7)/len(poss_combos_sum)\n",
    "    prob_8 = poss_combos_sum.count(8)/len(poss_combos_sum)\n",
    "    prob_9 = poss_combos_sum.count(9)/len(poss_combos_sum)\n",
    "    \n",
    "    return print(f\"probability of sum 7: {prob_7}, of sum 8: {prob_8} and of sum 9: {prob_9}\")\n"
   ]
  },
  {
   "cell_type": "code",
   "execution_count": 245,
   "metadata": {},
   "outputs": [
    {
     "name": "stdout",
     "output_type": "stream",
     "text": [
      "probability of sum 7: 0.16666666666666666, of sum 8: 0.1388888888888889 and of sum 9: 0.1111111111111111\n"
     ]
    }
   ],
   "source": [
    "possible_combos()"
   ]
  },
  {
   "cell_type": "code",
   "execution_count": null,
   "metadata": {},
   "outputs": [],
   "source": []
  },
  {
   "cell_type": "code",
   "execution_count": 128,
   "metadata": {},
   "outputs": [],
   "source": [
    "import random\n",
    "import seaborn as sns\n",
    "import matplotlib.pyplot as plt\n",
    "import pandas as pd"
   ]
  },
  {
   "cell_type": "code",
   "execution_count": 102,
   "metadata": {},
   "outputs": [
    {
     "data": {
      "text/plain": [
       "7"
      ]
     },
     "execution_count": 102,
     "metadata": {},
     "output_type": "execute_result"
    }
   ],
   "source": [
    "dice = [1,2,3,4,5,6]\n",
    "toss_1_dice = random.choices(dice,k=1)\n",
    "toss_2_dice = random.choices(dice,k=1)\n",
    "\n",
    "result = toss_1_dice[0] + toss_2_dice[0]\n",
    "result"
   ]
  },
  {
   "cell_type": "code",
   "execution_count": 116,
   "metadata": {},
   "outputs": [],
   "source": [
    "def throwin_a_dice():\n",
    "    dice = [1,2,3,4,5,6]\n",
    "    toss_1_dice = random.choices(dice,k=1)\n",
    "    toss_2_dice = random.choices(dice,k=1)\n",
    "\n",
    "    return toss_1_dice[0] + toss_2_dice[0]"
   ]
  },
  {
   "cell_type": "code",
   "execution_count": 117,
   "metadata": {},
   "outputs": [
    {
     "data": {
      "text/plain": [
       "6"
      ]
     },
     "execution_count": 117,
     "metadata": {},
     "output_type": "execute_result"
    }
   ],
   "source": [
    "throwin_a_dice()"
   ]
  },
  {
   "cell_type": "code",
   "execution_count": 176,
   "metadata": {},
   "outputs": [],
   "source": [
    "def storing_the_results(number_simulations):\n",
    "    count_results = {\"2\":0, \"3\":0, \"4\":0,\"5\":0, \"6\":0, \"7\":0,\"8\":0, \"9\":0, \"10\":0,\"11\":0, \"12\":0}\n",
    "    for i in range(number_simulations):\n",
    "        total_throwin_a_dice = throwin_a_dice()\n",
    "        if total_throwin_a_dice == 2:\n",
    "            count_results[\"2\"] +=1\n",
    "        elif total_throwin_a_dice == 3:\n",
    "            count_results[\"3\"] +=1\n",
    "        elif total_throwin_a_dice == 4:\n",
    "            count_results[\"4\"] +=1        \n",
    "        elif total_throwin_a_dice == 5:\n",
    "            count_results[\"5\"] +=1\n",
    "        elif total_throwin_a_dice == 6:\n",
    "            count_results[\"6\"] +=1\n",
    "        elif total_throwin_a_dice == 7:\n",
    "            count_results[\"7\"] +=1\n",
    "        elif total_throwin_a_dice == 8:\n",
    "            count_results[\"8\"] +=1\n",
    "        elif total_throwin_a_dice == 9:\n",
    "            count_results[\"9\"] +=1        \n",
    "        elif total_throwin_a_dice == 10:\n",
    "            count_results[\"10\"] +=1\n",
    "        elif total_throwin_a_dice == 11:\n",
    "            count_results[\"11\"] +=1\n",
    "        elif total_throwin_a_dice == 12:\n",
    "            count_results[\"12\"] +=1    \n",
    "    return count_results"
   ]
  },
  {
   "cell_type": "code",
   "execution_count": 177,
   "metadata": {},
   "outputs": [
    {
     "data": {
      "text/plain": [
       "{'2': 0,\n",
       " '3': 1,\n",
       " '4': 1,\n",
       " '5': 1,\n",
       " '6': 2,\n",
       " '7': 0,\n",
       " '8': 1,\n",
       " '9': 1,\n",
       " '10': 2,\n",
       " '11': 1,\n",
       " '12': 0}"
      ]
     },
     "execution_count": 177,
     "metadata": {},
     "output_type": "execute_result"
    }
   ],
   "source": [
    "storing_the_results(10)"
   ]
  },
  {
   "cell_type": "code",
   "execution_count": 178,
   "metadata": {},
   "outputs": [
    {
     "data": {
      "text/plain": [
       "{'2': 2,\n",
       " '3': 4,\n",
       " '4': 11,\n",
       " '5': 9,\n",
       " '6': 16,\n",
       " '7': 25,\n",
       " '8': 10,\n",
       " '9': 15,\n",
       " '10': 6,\n",
       " '11': 2,\n",
       " '12': 0}"
      ]
     },
     "execution_count": 178,
     "metadata": {},
     "output_type": "execute_result"
    }
   ],
   "source": [
    "storing_the_results(100)"
   ]
  },
  {
   "cell_type": "code",
   "execution_count": 179,
   "metadata": {},
   "outputs": [
    {
     "data": {
      "text/plain": [
       "{'2': 22,\n",
       " '3': 61,\n",
       " '4': 88,\n",
       " '5': 121,\n",
       " '6': 123,\n",
       " '7': 162,\n",
       " '8': 147,\n",
       " '9': 106,\n",
       " '10': 98,\n",
       " '11': 48,\n",
       " '12': 24}"
      ]
     },
     "execution_count": 179,
     "metadata": {},
     "output_type": "execute_result"
    }
   ],
   "source": [
    "storing_the_results(1000)"
   ]
  },
  {
   "cell_type": "code",
   "execution_count": 180,
   "metadata": {},
   "outputs": [
    {
     "data": {
      "text/plain": [
       "{'2': 281,\n",
       " '3': 567,\n",
       " '4': 814,\n",
       " '5': 1117,\n",
       " '6': 1423,\n",
       " '7': 1661,\n",
       " '8': 1401,\n",
       " '9': 1025,\n",
       " '10': 828,\n",
       " '11': 610,\n",
       " '12': 273}"
      ]
     },
     "execution_count": 180,
     "metadata": {},
     "output_type": "execute_result"
    }
   ],
   "source": [
    "storing_the_results(10000)"
   ]
  },
  {
   "cell_type": "code",
   "execution_count": 187,
   "metadata": {},
   "outputs": [
    {
     "data": {
      "text/plain": [
       "{'faces dice': ['2', '3', '4', '5', '6', '7', '8', '9', '10', '11', '12'],\n",
       " 'outcome': [308, 545, 829, 1109, 1390, 1671, 1362, 1118, 846, 545, 277]}"
      ]
     },
     "execution_count": 187,
     "metadata": {},
     "output_type": "execute_result"
    }
   ],
   "source": [
    "final_results = {\n",
    "    \"faces dice\": [\"2\", \"3\", \"4\", \"5\", \"6\", \"7\", \"8\", \"9\", \"10\", \"11\", \"12\"],\n",
    "    \"outcome\": list(storing_the_results(10000).values())\n",
    "}\n",
    "\n",
    "final_results\n"
   ]
  },
  {
   "cell_type": "code",
   "execution_count": 188,
   "metadata": {},
   "outputs": [
    {
     "data": {
      "text/html": [
       "<div>\n",
       "<style scoped>\n",
       "    .dataframe tbody tr th:only-of-type {\n",
       "        vertical-align: middle;\n",
       "    }\n",
       "\n",
       "    .dataframe tbody tr th {\n",
       "        vertical-align: top;\n",
       "    }\n",
       "\n",
       "    .dataframe thead th {\n",
       "        text-align: right;\n",
       "    }\n",
       "</style>\n",
       "<table border=\"1\" class=\"dataframe\">\n",
       "  <thead>\n",
       "    <tr style=\"text-align: right;\">\n",
       "      <th></th>\n",
       "      <th>faces dice</th>\n",
       "      <th>outcome</th>\n",
       "    </tr>\n",
       "  </thead>\n",
       "  <tbody>\n",
       "    <tr>\n",
       "      <th>0</th>\n",
       "      <td>2</td>\n",
       "      <td>308</td>\n",
       "    </tr>\n",
       "    <tr>\n",
       "      <th>1</th>\n",
       "      <td>3</td>\n",
       "      <td>545</td>\n",
       "    </tr>\n",
       "    <tr>\n",
       "      <th>2</th>\n",
       "      <td>4</td>\n",
       "      <td>829</td>\n",
       "    </tr>\n",
       "    <tr>\n",
       "      <th>3</th>\n",
       "      <td>5</td>\n",
       "      <td>1109</td>\n",
       "    </tr>\n",
       "    <tr>\n",
       "      <th>4</th>\n",
       "      <td>6</td>\n",
       "      <td>1390</td>\n",
       "    </tr>\n",
       "    <tr>\n",
       "      <th>5</th>\n",
       "      <td>7</td>\n",
       "      <td>1671</td>\n",
       "    </tr>\n",
       "    <tr>\n",
       "      <th>6</th>\n",
       "      <td>8</td>\n",
       "      <td>1362</td>\n",
       "    </tr>\n",
       "    <tr>\n",
       "      <th>7</th>\n",
       "      <td>9</td>\n",
       "      <td>1118</td>\n",
       "    </tr>\n",
       "    <tr>\n",
       "      <th>8</th>\n",
       "      <td>10</td>\n",
       "      <td>846</td>\n",
       "    </tr>\n",
       "    <tr>\n",
       "      <th>9</th>\n",
       "      <td>11</td>\n",
       "      <td>545</td>\n",
       "    </tr>\n",
       "    <tr>\n",
       "      <th>10</th>\n",
       "      <td>12</td>\n",
       "      <td>277</td>\n",
       "    </tr>\n",
       "  </tbody>\n",
       "</table>\n",
       "</div>"
      ],
      "text/plain": [
       "   faces dice  outcome\n",
       "0           2      308\n",
       "1           3      545\n",
       "2           4      829\n",
       "3           5     1109\n",
       "4           6     1390\n",
       "5           7     1671\n",
       "6           8     1362\n",
       "7           9     1118\n",
       "8          10      846\n",
       "9          11      545\n",
       "10         12      277"
      ]
     },
     "execution_count": 188,
     "metadata": {},
     "output_type": "execute_result"
    }
   ],
   "source": [
    "df_final_results = pd.DataFrame(final_results)\n",
    "df_final_results"
   ]
  },
  {
   "cell_type": "code",
   "execution_count": 189,
   "metadata": {},
   "outputs": [
    {
     "data": {
      "image/png": "[encoded data removed]",
      "text/plain": [
       "<Figure size 640x480 with 1 Axes>"
      ]
     },
     "metadata": {},
     "output_type": "display_data"
    }
   ],
   "source": [
    "sns.countplot(x=df_final_results[\"faces dice\"], palette=\"magma\")\n",
    "barplot = sns.barplot(x=\"faces dice\", y=\"outcome\", data=df_final_results)"
   ]
  },
  {
   "cell_type": "code",
   "execution_count": null,
   "metadata": {},
   "outputs": [],
   "source": []
  },
  {
   "cell_type": "code",
   "execution_count": null,
   "metadata": {},
   "outputs": [],
   "source": []
  }
 ],
 "metadata": {
  "kernelspec": {
   "display_name": "Python 3 (ipykernel)",
   "language": "python",
   "name": "python3"
  },
  "language_info": {
   "codemirror_mode": {
    "name": "ipython",
    "version": 3
   },
   "file_extension": ".py",
   "mimetype": "text/x-python",
   "name": "python",
   "nbconvert_exporter": "python",
   "pygments_lexer": "ipython3",
   "version": "3.11.4"
  },
  "toc": {
   "base_numbering": 1,
   "nav_menu": {},
   "number_sections": false,
   "sideBar": true,
   "skip_h1_title": false,
   "title_cell": "Table of Contents",
   "title_sidebar": "Contents",
   "toc_cell": false,
   "toc_position": {
    "height": "calc(100% - 180px)",
    "left": "10px",
    "top": "150px",
    "width": "296.475px"
   },
   "toc_section_display": true,
   "toc_window_display": false
  },
  "varInspector": {
   "cols": {
    "lenName": 16,
    "lenType": 16,
    "lenVar": 40
   },
   "kernels_config": {
    "python": {
     "delete_cmd_postfix": "",
     "delete_cmd_prefix": "del ",
     "library": "var_list.py",
     "varRefreshCmd": "print(var_dic_list())"
    },
    "r": {
     "delete_cmd_postfix": ") ",
     "delete_cmd_prefix": "rm(",
     "library": "var_list.r",
     "varRefreshCmd": "cat(var_dic_list()) "
    }
   },
   "types_to_exclude": [
    "module",
    "function",
    "builtin_function_or_method",
    "instance",
    "_Feature"
   ],
   "window_display": false
  }
 },
 "nbformat": 4,
 "nbformat_minor": 2
}
