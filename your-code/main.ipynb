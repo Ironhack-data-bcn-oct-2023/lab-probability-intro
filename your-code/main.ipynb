{
 "cells": [
  {
   "cell_type": "markdown",
   "metadata": {},
   "source": [
    "# Probability"
   ]
  },
  {
   "cell_type": "markdown",
   "metadata": {},
   "source": [
    "## Challenge 1\n",
    "There is a box with 10 white balls, 12 red balls and 8 black balls. Calculate the probability of:\n",
    "* Taking a white ball out.\n",
    "* Taking a white ball on first extraction and a black ball out on second extraction without replacing the first one.\n",
    "* Taking a white ball on first extraction and a black ball out on second extraction replacing the first one.\n",
    "* Taking 3 balls and them being all different colours."
   ]
  },
  {
   "cell_type": "code",
   "execution_count": null,
   "metadata": {},
   "outputs": [],
   "source": [
    "\"\"\"\n",
    "your solution here\n",
    "\n",
    "P(withe_ball) = 10/30\n",
    "P(withe_and_black) = 10/30 * 8/29\n",
    "P(withe_ball) = 10/30 * \n",
    "\"\"\""
   ]
  },
  {
   "cell_type": "code",
   "execution_count": 24,
   "metadata": {},
   "outputs": [
    {
     "name": "stdout",
     "output_type": "stream",
     "text": [
      "White ball:  0.3333333333333333\n",
      "white ball on first and a black ball out on second without replacing:  0.09195402298850575\n",
      "white ball on first and a black ball out on second replacing:  0.08888888888888888\n",
      "3 balls all different colours:  0.23645320197044334\n"
     ]
    }
   ],
   "source": [
    "print(\"White ball: \", 10/30)\n",
    "print(\"white ball on first and a black ball out on second without replacing: \", 10/30 * 8/29)\n",
    "print(\"white ball on first and a black ball out on second replacing: \", 10/30 * 8/30)\n",
    "print(\"3 balls all different colours: \", balls_difference_colors)"
   ]
  },
  {
   "cell_type": "code",
   "execution_count": 28,
   "metadata": {},
   "outputs": [
    {
     "data": {
      "text/plain": [
       "0.23645320197044334"
      ]
     },
     "execution_count": 28,
     "metadata": {},
     "output_type": "execute_result"
    }
   ],
   "source": [
    "def factorial (n):\n",
    "    \"\"\"Little recursive function :)\"\"\"\n",
    "    if n == 0:\n",
    "        return 1 # 0 returns 1 because its the only combination for arranging it\n",
    "    else:\n",
    "        #print(f\"The n is: {n}, multiplied by {n-1}\")\n",
    "        return n * factorial (n-1)\n",
    "combi_total = factorial(30)/ (factorial(3) * factorial(30-3))\n",
    "# Combinatio white 10 with 1\n",
    "combi_white = factorial(10)/ (factorial(1) * factorial(10-1))\n",
    "# Combinatio red 12 with 1\n",
    "combi_red = factorial(12)/ (factorial(1) * factorial(12-1))\n",
    "# Combinatio black 8 with 1\n",
    "combi_black = factorial(8)/ (factorial(1) * factorial(8-1))\n",
    "\n",
    "balls_difference_colors = (combi_white * combi_red * combi_black) / combi_total\n",
    "# could done also this:\n",
    "(10 * 12 * 8 ) /  combi_total"
   ]
  },
  {
   "cell_type": "markdown",
   "metadata": {},
   "source": [
    "## Challenge 2\n",
    "\n",
    "You want to go on picnic on Saturday. You hate rain, and would know to plan your weekend. To help you make a decision, you gather the following data about rainy days:\n",
    "\n",
    "* 40% of all days are cloudy.\n",
    "* About 50% of cloudy days are rainy. \n",
    "* About 20% of non-cloudy days are rainy.\n",
    "\n",
    "What is the chance of rain during next Saturday?"
   ]
  },
  {
   "cell_type": "code",
   "execution_count": null,
   "metadata": {},
   "outputs": [],
   "source": [
    "\"\"\"\n",
    "your solution here\n",
    "\"\"\""
   ]
  },
  {
   "cell_type": "code",
   "execution_count": 11,
   "metadata": {},
   "outputs": [
    {
     "data": {
      "text/plain": [
       "0.32"
      ]
     },
     "execution_count": 11,
     "metadata": {},
     "output_type": "execute_result"
    }
   ],
   "source": [
    "(40/100 * 50/100) + (60/100 * 20/100)"
   ]
  },
  {
   "cell_type": "markdown",
   "metadata": {},
   "source": [
    "## Challenge 3\n",
    "\n",
    "A and B are events of a probability such that $P(A) = 0.3$, $P(B) = 0.6$ and $P(A \\cap B) = 0.1$\n",
    "\n",
    "Which of the following statements are true?  \n",
    "**HINT: draw a big Venn Diagram by your side**  \n",
    "1.  $P(\\overline{A}) = 0.7$\n",
    "2.  $P(A \\cup B) = 0.6$\n",
    "3.  $P(A \\cap \\overline{B}) = 0.2$\n",
    "4.  $P(A \\cup \\overline{A}) = 1$  \n",
    "5.  $P(A \\cap (B \\cup \\overline{B})) = 0.4$\n",
    "6. $P(\\overline{A} \\cap \\overline{B}) = 0.3$\n",
    "7. $P(\\overline{A \\cap B}) = 0.9$"
   ]
  },
  {
   "cell_type": "code",
   "execution_count": 65,
   "metadata": {},
   "outputs": [
    {
     "name": "stdout",
     "output_type": "stream",
     "text": [
      "1. True:  0.7\n",
      "2. False:  0.7999999999999999\n",
      "3. True  0.19999999999999998\n",
      "4. True\n",
      "5. False :  0.3\n",
      "6. False: 0.27999999999999997\n",
      "7. False:  0.8200000000000001\n"
     ]
    }
   ],
   "source": [
    "#1. 1 - A\n",
    "print(\"1. True: \", (1 - 0.3)) \n",
    "# 2. P(A) + P(B) - P(A ∩ B)\n",
    "print(\"2. False: \", (0.3 + 0.6 - 0.1))\n",
    "# 3.\n",
    "print(\"3. True \",  (0.3 - 0.1))\n",
    "# 4.\n",
    "print(\"4. True\" )\n",
    "# 5.\n",
    "print(\"5. True : \", (0.3 * (1)) ) # could not prove with code\n",
    "# 6.\n",
    "print(\"6. False:\",  (1 - 0.3) * (1 - 0.6)) #i should round to 0.3?\n",
    "# 7.\n",
    "print(\"7. False: \", ( 1 - (0.3 * 0.6))) "
   ]
  },
  {
   "cell_type": "markdown",
   "metadata": {},
   "source": [
    "## Challenge 4\n",
    "\n",
    " * If someone flies to China, the probability of getting Covid is 1%  \n",
    " * If someone flies to Italy, the probability of getting Covid is 20%  \n",
    "\n",
    "I roll 1 dice with numbers 1, 2, 3, 4, 5, 6:  \n",
    " * If 1: I fly to Italy\n",
    " * If not 1: I fly to China\n",
    "\n",
    "During my trip, I got Covid. What is the probability that I flew to China?"
   ]
  },
  {
   "cell_type": "code",
   "execution_count": 59,
   "metadata": {},
   "outputs": [
    {
     "data": {
      "text/plain": [
       "0.2"
      ]
     },
     "execution_count": 59,
     "metadata": {},
     "output_type": "execute_result"
    }
   ],
   "source": [
    "covid_china = 1/100\n",
    "covid_italy = 20/100\n",
    "china = 5/6\n",
    "italy = 1/6\n",
    "\n",
    "flew_china = (china * covid_china) / ((china * covid_china) + (italy * covid_italy))\n",
    "flew_china"
   ]
  },
  {
   "cell_type": "code",
   "execution_count": null,
   "metadata": {},
   "outputs": [],
   "source": [
    "\"\"\"\n",
    "your solution here\n",
    "\"\"\""
   ]
  },
  {
   "cell_type": "markdown",
   "metadata": {},
   "source": [
    "## BONUS\n",
    "\n",
    "You roll 2 dice. What is the probability that the sum of the numbers is 7? And 8? And 9? Then simulate 10000 times and draw a countplot."
   ]
  },
  {
   "cell_type": "markdown",
   "metadata": {},
   "source": [
    "your explanation here"
   ]
  },
  {
   "cell_type": "code",
   "execution_count": null,
   "metadata": {},
   "outputs": [],
   "source": [
    "# your code here"
   ]
  },
  {
   "cell_type": "code",
   "execution_count": null,
   "metadata": {},
   "outputs": [],
   "source": [
    "\"\"\"\n",
    "your solution here\n",
    "\"\"\""
   ]
  }
 ],
 "metadata": {
  "kernelspec": {
   "display_name": "Python 3",
   "language": "python",
   "name": "python3"
  },
  "language_info": {
   "codemirror_mode": {
    "name": "ipython",
    "version": 3
   },
   "file_extension": ".py",
   "mimetype": "text/x-python",
   "name": "python",
   "nbconvert_exporter": "python",
   "pygments_lexer": "ipython3",
   "version": "3.12.0"
  },
  "toc": {
   "base_numbering": 1,
   "nav_menu": {},
   "number_sections": false,
   "sideBar": true,
   "skip_h1_title": false,
   "title_cell": "Table of Contents",
   "title_sidebar": "Contents",
   "toc_cell": false,
   "toc_position": {
    "height": "calc(100% - 180px)",
    "left": "10px",
    "top": "150px",
    "width": "296.475px"
   },
   "toc_section_display": true,
   "toc_window_display": false
  },
  "varInspector": {
   "cols": {
    "lenName": 16,
    "lenType": 16,
    "lenVar": 40
   },
   "kernels_config": {
    "python": {
     "delete_cmd_postfix": "",
     "delete_cmd_prefix": "del ",
     "library": "var_list.py",
     "varRefreshCmd": "print(var_dic_list())"
    },
    "r": {
     "delete_cmd_postfix": ") ",
     "delete_cmd_prefix": "rm(",
     "library": "var_list.r",
     "varRefreshCmd": "cat(var_dic_list()) "
    }
   },
   "types_to_exclude": [
    "module",
    "function",
    "builtin_function_or_method",
    "instance",
    "_Feature"
   ],
   "window_display": false
  }
 },
 "nbformat": 4,
 "nbformat_minor": 2
}
