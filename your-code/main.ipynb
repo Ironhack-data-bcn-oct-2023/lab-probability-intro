{
 "cells": [
  {
   "cell_type": "code",
   "execution_count": 13,
   "metadata": {},
   "outputs": [],
   "source": [
    "import numpy as np\n",
    "import matplotlib.pyplot as plt\n",
    "import seaborn as sns"
   ]
  },
  {
   "cell_type": "markdown",
   "metadata": {},
   "source": [
    "# Probability"
   ]
  },
  {
   "cell_type": "markdown",
   "metadata": {},
   "source": [
    "## Challenge 1\n",
    "There is a box with 10 white balls, 12 red balls and 8 black balls. Calculate the probability of:\n",
    "* Taking a white ball out.\n",
    "* Taking a white ball on first extraction and a black ball out on second extraction without replacing the first one.\n",
    "* Taking a white ball on first extraction and a black ball out on second extraction replacing the first one.\n",
    "* Taking 3 balls and them being all different colours."
   ]
  },
  {
   "cell_type": "code",
   "execution_count": null,
   "metadata": {},
   "outputs": [],
   "source": [
    "\"\"\"\n",
    "Total balls = 30\n",
    "\n",
    "1. Taking a white ball out:\n",
    "   - P(White ball) = 10/30\n",
    "\n",
    "2. Taking a white ball on the first extraction and a black ball on the second extraction without replacing the first one:\n",
    "   - P(White, Black without replacement) = (10/30) * (8/29) \n",
    "\n",
    "3. Taking a white ball on the first extraction and a black ball on the second extraction with replacing the first one:\n",
    "   - P(White, Black with replacement) = (10/30) * (8/30)\n",
    "\n",
    "4. Taking 3 balls and having them all be different colors:\n",
    "   - P(3 different colors) = ((10/30) * (12/29) * (8/28)) * 6\n",
    "\n",
    "\"\"\""
   ]
  },
  {
   "cell_type": "markdown",
   "metadata": {},
   "source": [
    "## Challenge 2\n",
    "\n",
    "You want to go on picnic on Saturday. You hate rain, and would know to plan your weekend. To help you make a decision, you gather the following data about rainy days:\n",
    "\n",
    "* 40% of all days are cloudy.\n",
    "* About 50% of cloudy days are rainy. \n",
    "* About 20% of non-cloudy days are rainy.\n",
    "\n",
    "What is the chance of rain during next Saturday?"
   ]
  },
  {
   "cell_type": "code",
   "execution_count": null,
   "metadata": {},
   "outputs": [],
   "source": [
    "\"\"\"\n",
    "P(C) = 0.40   <------Cloudy days\n",
    "P(R|C) = 0.50  <-----Raining on a cloudy day\n",
    "P(R|NC) = 0.20  <----Raining on a non-cloudy day\n",
    "P(R) = ???     <-----Will it rain on Saturday?\n",
    "\n",
    "To find the probability of rain on Saturday:\n",
    "\n",
    "P(R) = P(C) * P(R|C) * P(R|NC)\n",
    "\n",
    "P(R) = (0.40 * 0.50) + (0.60 * 0.20)\n",
    "\n",
    "P(R) = 0.20 + 0.12\n",
    "\n",
    "P(R) = 0.32\n",
    "\n",
    "There's a 32% chance of raining on Saturday!\n",
    "\n",
    "\"\"\""
   ]
  },
  {
   "cell_type": "markdown",
   "metadata": {},
   "source": [
    "## Challenge 3\n",
    "\n",
    "A and B are events of a probability such that $P(A) = 0.3$, $P(B) = 0.6$ and $P(A \\cap B) = 0.1$\n",
    "\n",
    "Which of the following statements are true?  \n",
    "**HINT: draw a big Venn Diagram by your side**  \n",
    "* $P(\\overline{A}) = 0.7$\n",
    "* $P(A \\cup B) = 0.6$\n",
    "* $P(A \\cap \\overline{B}) = 0.2$\n",
    "* $P(A \\cup \\overline{A}) = 1$  \n",
    "* $P(A \\cap (B \\cup \\overline{B})) = 0.4$\n",
    "* $P(\\overline{A} \\cap \\overline{B}) = 0.3$\n",
    "* $P(\\overline{A \\cap B}) = 0.9$"
   ]
  },
  {
   "cell_type": "markdown",
   "metadata": {},
   "source": [
    "**Given Probabilities:**\n",
    "- $P(A) = 0.3$\n",
    "- $P(B) = 0.6$\n",
    "- $P(A \\cap B) = 0.1$\n",
    "\n",
    "**Statements (with explanations):**\n",
    "1. $P(\\overline{A}) = 0.7$: This is true because if the probability of A occurring is 30%, then the probability of A not occurring (denoted as $\\overline{A}$) is 70%.\n",
    "\n",
    "2. $P(A \\cup B) = 0.6$: This is false. The probability of A or B occurring is the sum of their individual probabilities minus the probability of their intersection: $P(A) + P(B) - P(A \\cap B) = 0.3 + 0.6 - 0.1 = 0.8$.\n",
    "\n",
    "3. $P(A \\cap \\overline{B}) = 0.2$  \n",
    "   True. This is the probability of A occurring while B does not occur, calculated as $P(A) - P(A \\cap B) = 0.3 - 0.1 = 0.2$.\n",
    "\n",
    "4. $P(A \\cup \\overline{A}) = 1$  \n",
    "   True. The probability of either A or its complement $\\overline{A}$ occurring is always 1 because one of them must happen.\n",
    "\n",
    "5. $P(A \\cap (B \\cup \\overline{B})) = 0.4$: This is false. The union of an event with its complement covers the entire sample space, so $B \\cup \\overline{B}$ represents the entire sample space (universal set), which has a probability of 1. Thus, $P(A \\cap 1) = P(A) = 0.3$, making $P(A \\cap (B \\cup \\overline{B})) = 0.3$.\n",
    "\n",
    "6. $P(\\overline{A} \\cap \\overline{B}) = 0.3$  \n",
    "   False. This is the probability of neither A nor B occurring, calculated using the complement rule: $P(\\overline{A} \\cap \\overline{B}) = 1 - P(A \\cup B) = 1 - 0.8 = 0.2$\n",
    "\n",
    "7. $P(\\overline{A \\cap B}) = 0.9$  \n",
    "   True. This represents the probability of neither A nor B occurring simultaneously, calculated using the complement rule: $P(\\overline{A \\cap B}) = 1 - P(A \\cap B) = 1 - 0.1 = 0.9$."
   ]
  },
  {
   "cell_type": "markdown",
   "metadata": {},
   "source": [
    "## Challenge 4\n",
    "\n",
    " * If someone flies to China, the probability of getting Covid is 1%  \n",
    " * If someone flies to Italy, the probability of getting Covid is 20%  \n",
    "\n",
    "I roll 1 dice with numbers 1, 2, 3, 4, 5, 6:  \n",
    " * If 1: I fly to Italy\n",
    " * If not 1: I fly to China\n",
    "\n",
    "During my trip, I got Covid. What is the probability that I flew to China?"
   ]
  },
  {
   "cell_type": "code",
   "execution_count": 5,
   "metadata": {},
   "outputs": [
    {
     "name": "stdout",
     "output_type": "stream",
     "text": [
      "The probability of flying to China given that you got Covid is 0.20\n"
     ]
    }
   ],
   "source": [
    "# Define the probabilities\n",
    "p_covid_given_china = 0.01  # Probability of getting Covid if you flew to China\n",
    "p_covid_given_italy = 0.20  # Probability of getting Covid if you flew to Italy\n",
    "p_china = 5/6  # Probability of flying to China\n",
    "p_italy = 1/6  # Probability of flying to Italy\n",
    "\n",
    "# Calculate the probability of getting Covid regardless of the destination\n",
    "p_covid = (p_covid_given_china * p_china) + (p_covid_given_italy * p_italy)\n",
    "\n",
    "# Calculate the probability of flying to China given that you got Covid\n",
    "p_china_given_covid = (p_covid_given_china * p_china) / p_covid\n",
    "\n",
    "print(f\"The probability of flying to China given that you got Covid is {p_china_given_covid:.2f}\")"
   ]
  },
  {
   "cell_type": "code",
   "execution_count": null,
   "metadata": {},
   "outputs": [],
   "source": [
    "\"\"\"\n",
    "P(China | Covid) = (P(Covid | China) * P(China)) / P(Covid)\n",
    "\n",
    "We have the following information:\n",
    "\n",
    "P(Covid | China) = 1% = 0.01\n",
    "P(Covid | Italy) = 20% = 0.20\n",
    "P(China) = Probability of flying to China = 5/6 (since 1 out of 6 outcomes results in flying to Italy)\n",
    "P(Italy) = Probability of flying to Italy = 1/6\n",
    "\n",
    "Now, to calculate P(Covid), which is the probability of getting Covid regardless of the destination:\n",
    "\n",
    "P(Covid) = P(Covid | China) * P(China) + P(Covid | Italy) * P(Italy)\n",
    "P(Covid) = (0.01) * (5/6) + (0.20) * (1/6)\n",
    "\n",
    "Now we can use Bayes' Theorem to find P(China | Covid):\n",
    "\n",
    "P(China | Covid) = (0.01 * (5/6)) / ((0.01 * (5/6)) + (0.20 * (1/6)))\n",
    "\n",
    "\"\"\""
   ]
  },
  {
   "cell_type": "markdown",
   "metadata": {},
   "source": [
    "## BONUS\n",
    "\n",
    "You roll 2 dice. What is the probability that the sum of the numbers is 7? And 8? And 9? Then simulate 10000 times and draw a countplot."
   ]
  },
  {
   "cell_type": "markdown",
   "metadata": {},
   "source": [
    "your explanation here"
   ]
  },
  {
   "cell_type": "code",
   "execution_count": 12,
   "metadata": {},
   "outputs": [
    {
     "name": "stdout",
     "output_type": "stream",
     "text": [
      "Probability of getting a sum of 7: 0.17\n",
      "Probability of getting a sum of 8: 0.14\n",
      "Probability of getting a sum of 9: 0.11\n"
     ]
    },
    {
     "data": {
      "image/png": "[encoded data removed]",
      "text/plain": [
       "<Figure size 640x480 with 1 Axes>"
      ]
     },
     "metadata": {},
     "output_type": "display_data"
    }
   ],
   "source": [
    "# Simulate rolling two dice 10,000 times\n",
    "n_simulations = 10000\n",
    "results = np.random.randint(1, 7, size=(n_simulations, 2))\n",
    "sums = np.sum(results, axis=1)\n",
    "\n",
    "# Calculate probabilities\n",
    "count_sum_7 = np.sum(sums == 7)\n",
    "count_sum_8 = np.sum(sums == 8)\n",
    "count_sum_9 = np.sum(sums == 9)\n",
    "\n",
    "probability_sum_7 = count_sum_7 / n_simulations\n",
    "probability_sum_8 = count_sum_8 / n_simulations\n",
    "probability_sum_9 = count_sum_9 / n_simulations\n",
    "\n",
    "print(f\"Probability of getting a sum of 7: {probability_sum_7:.2f}\")\n",
    "print(f\"Probability of getting a sum of 8: {probability_sum_8:.2f}\")\n",
    "print(f\"Probability of getting a sum of 9: {probability_sum_9:.2f}\")\n",
    "\n",
    "# Create a countplot\n",
    "sns.countplot(x=sums, color=\"blue\", saturation=0.75)\n",
    "plt.xlabel(\"Sum of Two Dice\")\n",
    "plt.ylabel(\"Count\")\n",
    "plt.title(\"Simulated Counts of Sum of Two Dice\")\n",
    "plt.show()\n",
    "\n"
   ]
  },
  {
   "cell_type": "code",
   "execution_count": null,
   "metadata": {},
   "outputs": [],
   "source": [
    "\"\"\"\n",
    "There are 6 sides on each die, so there are 6 * 6 = 36 possible outcomes when rolling two dice. Here are the probabilities:\n",
    "\n",
    "Probability of getting a sum of 7:\n",
    "There are 6 ways to get a sum of 7 (1+6, 2+5, 3+4, 4+3, 5+2, 6+1).\n",
    "Probability = (Number of favorable outcomes) / (Total number of possible outcomes) = 6/36 = 1/6.\n",
    "\n",
    "Probability of getting a sum of 8:\n",
    "There are 5 ways to get a sum of 8 (2+6, 3+5, 4+4, 5+3, 6+2).\n",
    "Probability = 5/36.\n",
    "\n",
    "Probability of getting a sum of 9:\n",
    "There are 4 ways to get a sum of 9 (3+6, 4+5, 5+4, 6+3).\n",
    "Probability = 4/36 = 1/9.\n",
    "\n",
    "\"\"\""
   ]
  }
 ],
 "metadata": {
  "kernelspec": {
   "display_name": "ironhack",
   "language": "python",
   "name": "ironhack"
  },
  "language_info": {
   "codemirror_mode": {
    "name": "ipython",
    "version": 3
   },
   "file_extension": ".py",
   "mimetype": "text/x-python",
   "name": "python",
   "nbconvert_exporter": "python",
   "pygments_lexer": "ipython3",
   "version": "3.11.5"
  },
  "toc": {
   "base_numbering": 1,
   "nav_menu": {},
   "number_sections": false,
   "sideBar": true,
   "skip_h1_title": false,
   "title_cell": "Table of Contents",
   "title_sidebar": "Contents",
   "toc_cell": false,
   "toc_position": {
    "height": "calc(100% - 180px)",
    "left": "10px",
    "top": "150px",
    "width": "296.475px"
   },
   "toc_section_display": true,
   "toc_window_display": false
  },
  "varInspector": {
   "cols": {
    "lenName": 16,
    "lenType": 16,
    "lenVar": 40
   },
   "kernels_config": {
    "python": {
     "delete_cmd_postfix": "",
     "delete_cmd_prefix": "del ",
     "library": "var_list.py",
     "varRefreshCmd": "print(var_dic_list())"
    },
    "r": {
     "delete_cmd_postfix": ") ",
     "delete_cmd_prefix": "rm(",
     "library": "var_list.r",
     "varRefreshCmd": "cat(var_dic_list()) "
    }
   },
   "types_to_exclude": [
    "module",
    "function",
    "builtin_function_or_method",
    "instance",
    "_Feature"
   ],
   "window_display": false
  }
 },
 "nbformat": 4,
 "nbformat_minor": 2
}
